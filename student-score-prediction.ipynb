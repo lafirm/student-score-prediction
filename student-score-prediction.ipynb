{
 "cells": [
  {
   "cell_type": "markdown",
   "metadata": {},
   "source": [
    "# Predicting a students score based on their study hours \n",
    "\n",
    "\n",
    "![Study Hours](https://images.unsplash.com/photo-1524678714210-9917a6c619c2?ixlib=rb-1.2.1&ixid=MnwxMjA3fDB8MHxwaG90by1wYWdlfHx8fGVufDB8fHx8&auto=format&fit=crop&w=1169&q=80)\n",
    "\n",
    "*`Author: Lafir`* \n",
    "\n",
    "---"
   ]
  },
  {
   "cell_type": "markdown",
   "metadata": {},
   "source": [
    "## Introduction\n",
    "\n",
    "This project is part of the `Data Science and Business Analytics` internship (GRIP) program provided by [The Sparks Foundation](https://internship.thesparksfoundation.info/#grip).  \n",
    "\n",
    "And the dataset is provided by them as part of `Task #1` in the GRIP January-2022 Program. \n",
    "\n",
    "In this project, we will train a machine learning model to predict the percentage of marks scored by a student based on their study hours.  \n",
    "\n",
    "This is a simple linear regression problem since it involves only two variables, i.e. `Hours` and `Scores`. `Hours` column represents number of study hours, and `Scores` column represents percentage of marks scored by the student. \n",
    "\n",
    "In this notebook, we will use linear regression class from scikit-learn linear model library for training our model. We will also use libraries like Pandas, Numpy, Matplotlib, and Seaborn to perform exploratory data analysis and gather insights for machine learning. Here is a list of the activities that our project involves: \n",
    "\n",
    "\n",
    "1. Download the Dataset\n",
    "  - Install and import required libraries\n",
    "  - Download data from Github\n",
    "  - Load dataset with Pandas\n",
    "    \n",
    "    \n",
    "2. Explore the Dataset\n",
    "  - Basic info about dataset\n",
    "  - Exploratory data analysis & visualization\n",
    "   \n",
    "   \n",
    "3. Prepare Dataset for Training\n",
    "  - Split into training and validation sets\n",
    "  - Extract inputs and outputs (targets)\n",
    "\n",
    "\n",
    "4. Model Training\n",
    "\n",
    "5. Model Validation\n",
    "\n",
    "6. Model Application\n",
    "\n",
    "7. Inferences and Conclusion\n",
    "\n",
    "8. References "
   ]
  },
  {
   "cell_type": "markdown",
   "metadata": {},
   "source": [
    "## 1. Download the Dataset"
   ]
  },
  {
   "cell_type": "markdown",
   "metadata": {},
   "source": [
    "### Install and import required libraries "
   ]
  },
  {
   "cell_type": "code",
   "execution_count": 1,
   "metadata": {},
   "outputs": [],
   "source": [
    "#install all required libraries \n",
    "!pip install jovian pandas matplotlib seaborn scikit-learn --upgrade --quiet"
   ]
  },
  {
   "cell_type": "code",
   "execution_count": 2,
   "metadata": {},
   "outputs": [],
   "source": [
    "#import all required libraries\n",
    "#to save our notebook online\n",
    "import jovian\n",
    "\n",
    "#to work with OS and files \n",
    "import os\n",
    "\n",
    "#to perform arithmetic operations and analysis on data\n",
    "import numpy as np\n",
    "import pandas as pd\n",
    "\n",
    "#to visualize data and their relationship \n",
    "import matplotlib \n",
    "import matplotlib.pyplot as plt\n",
    "import seaborn as sns\n",
    "\n",
    "#to prevent warning messages\n",
    "import warnings\n",
    "warnings.filterwarnings('ignore')"
   ]
  },
  {
   "cell_type": "code",
   "execution_count": 3,
   "metadata": {
    "scrolled": true
   },
   "outputs": [
    {
     "data": {
      "application/javascript": [
       "window.require && require([\"base/js/namespace\"],function(Jupyter){Jupyter.notebook.save_checkpoint()})"
      ],
      "text/plain": [
       "<IPython.core.display.Javascript object>"
      ]
     },
     "metadata": {},
     "output_type": "display_data"
    },
    {
     "name": "stdout",
     "output_type": "stream",
     "text": [
      "[jovian] Updating notebook \"lafirm/student-score-prediction\" on https://jovian.ai\u001b[0m\n",
      "[jovian] Committed successfully! https://jovian.ai/lafirm/student-score-prediction\u001b[0m\n"
     ]
    },
    {
     "data": {
      "text/plain": [
       "'https://jovian.ai/lafirm/student-score-prediction'"
      ]
     },
     "execution_count": 3,
     "metadata": {},
     "output_type": "execute_result"
    }
   ],
   "source": [
    "#to save new versions of the notebook online\n",
    "jovian.commit(project=\"student-score-prediction\")"
   ]
  },
  {
   "cell_type": "markdown",
   "metadata": {},
   "source": [
    "### Download data from Github "
   ]
  },
  {
   "cell_type": "code",
   "execution_count": 4,
   "metadata": {},
   "outputs": [],
   "source": [
    "#assign dataset url to a variable \n",
    "dataset_url = \"https://raw.githubusercontent.com/AdiPersonalWorks/Random/master/student_scores%20-%20student_scores.csv\""
   ]
  },
  {
   "cell_type": "code",
   "execution_count": 5,
   "metadata": {},
   "outputs": [],
   "source": [
    "#import urlretrieve function\n",
    "from urllib.request import urlretrieve"
   ]
  },
  {
   "cell_type": "code",
   "execution_count": 6,
   "metadata": {},
   "outputs": [
    {
     "data": {
      "text/plain": [
       "('student_scores.csv', <http.client.HTTPMessage at 0x7fe68bd76910>)"
      ]
     },
     "execution_count": 6,
     "metadata": {},
     "output_type": "execute_result"
    }
   ],
   "source": [
    "#download and rename the dataset \n",
    "urlretrieve (dataset_url, 'student_scores.csv')"
   ]
  },
  {
   "cell_type": "code",
   "execution_count": 7,
   "metadata": {},
   "outputs": [
    {
     "data": {
      "text/plain": [
       "['.bash_logout',\n",
       " '.profile',\n",
       " '.bashrc',\n",
       " '.ipynb_checkpoints',\n",
       " '.ipython',\n",
       " '.local',\n",
       " 'student_scores.csv',\n",
       " '.cache',\n",
       " '.jovianrc',\n",
       " 'student-score-prediction.ipynb',\n",
       " '.jupyter',\n",
       " '.jovian',\n",
       " '.config',\n",
       " '.conda',\n",
       " '.wget-hsts',\n",
       " '.git',\n",
       " 'work',\n",
       " '.npm']"
      ]
     },
     "execution_count": 7,
     "metadata": {},
     "output_type": "execute_result"
    }
   ],
   "source": [
    "#to check whether dataset is downloaded\n",
    "os.listdir()"
   ]
  },
  {
   "cell_type": "markdown",
   "metadata": {},
   "source": [
    "### Load dataset with Pandas"
   ]
  },
  {
   "cell_type": "code",
   "execution_count": 8,
   "metadata": {},
   "outputs": [],
   "source": [
    "#to convert CSV file into pandas dataframe\n",
    "raw_df = pd.read_csv('student_scores.csv')"
   ]
  },
  {
   "cell_type": "code",
   "execution_count": 9,
   "metadata": {},
   "outputs": [
    {
     "data": {
      "text/html": [
       "<div>\n",
       "<style scoped>\n",
       "    .dataframe tbody tr th:only-of-type {\n",
       "        vertical-align: middle;\n",
       "    }\n",
       "\n",
       "    .dataframe tbody tr th {\n",
       "        vertical-align: top;\n",
       "    }\n",
       "\n",
       "    .dataframe thead th {\n",
       "        text-align: right;\n",
       "    }\n",
       "</style>\n",
       "<table border=\"1\" class=\"dataframe\">\n",
       "  <thead>\n",
       "    <tr style=\"text-align: right;\">\n",
       "      <th></th>\n",
       "      <th>Hours</th>\n",
       "      <th>Scores</th>\n",
       "    </tr>\n",
       "  </thead>\n",
       "  <tbody>\n",
       "    <tr>\n",
       "      <th>0</th>\n",
       "      <td>2.5</td>\n",
       "      <td>21</td>\n",
       "    </tr>\n",
       "    <tr>\n",
       "      <th>1</th>\n",
       "      <td>5.1</td>\n",
       "      <td>47</td>\n",
       "    </tr>\n",
       "    <tr>\n",
       "      <th>2</th>\n",
       "      <td>3.2</td>\n",
       "      <td>27</td>\n",
       "    </tr>\n",
       "    <tr>\n",
       "      <th>3</th>\n",
       "      <td>8.5</td>\n",
       "      <td>75</td>\n",
       "    </tr>\n",
       "    <tr>\n",
       "      <th>4</th>\n",
       "      <td>3.5</td>\n",
       "      <td>30</td>\n",
       "    </tr>\n",
       "  </tbody>\n",
       "</table>\n",
       "</div>"
      ],
      "text/plain": [
       "   Hours  Scores\n",
       "0    2.5      21\n",
       "1    5.1      47\n",
       "2    3.2      27\n",
       "3    8.5      75\n",
       "4    3.5      30"
      ]
     },
     "execution_count": 9,
     "metadata": {},
     "output_type": "execute_result"
    }
   ],
   "source": [
    "#display top 5 rows of raw_df \n",
    "raw_df.head(5)"
   ]
  },
  {
   "cell_type": "markdown",
   "metadata": {},
   "source": [
    "---"
   ]
  },
  {
   "cell_type": "markdown",
   "metadata": {},
   "source": [
    "## 2. Explore the Dataset "
   ]
  },
  {
   "cell_type": "markdown",
   "metadata": {},
   "source": [
    "### Basic info about the Dataset\n",
    "\n",
    "Let's check some basic information regarding the dataset like size, column names, data types and statistical information like mean, median, max and min value etc. "
   ]
  },
  {
   "cell_type": "code",
   "execution_count": 10,
   "metadata": {},
   "outputs": [
    {
     "data": {
      "text/plain": [
       "(25, 2)"
      ]
     },
     "execution_count": 10,
     "metadata": {},
     "output_type": "execute_result"
    }
   ],
   "source": [
    "#to check the shape of dataset \n",
    "raw_df.shape"
   ]
  },
  {
   "cell_type": "markdown",
   "metadata": {},
   "source": [
    "This dataset has 25 rows and 2 columns"
   ]
  },
  {
   "cell_type": "code",
   "execution_count": 11,
   "metadata": {},
   "outputs": [
    {
     "name": "stdout",
     "output_type": "stream",
     "text": [
      "<class 'pandas.core.frame.DataFrame'>\n",
      "RangeIndex: 25 entries, 0 to 24\n",
      "Data columns (total 2 columns):\n",
      " #   Column  Non-Null Count  Dtype  \n",
      "---  ------  --------------  -----  \n",
      " 0   Hours   25 non-null     float64\n",
      " 1   Scores  25 non-null     int64  \n",
      "dtypes: float64(1), int64(1)\n",
      "memory usage: 528.0 bytes\n"
     ]
    }
   ],
   "source": [
    "#to view some basic info\n",
    "raw_df.info()"
   ]
  },
  {
   "cell_type": "markdown",
   "metadata": {},
   "source": [
    "`Hours` column contains `float64` data type, `Scores` column contains `int64` data type. "
   ]
  },
  {
   "cell_type": "code",
   "execution_count": 12,
   "metadata": {},
   "outputs": [
    {
     "data": {
      "text/html": [
       "<div>\n",
       "<style scoped>\n",
       "    .dataframe tbody tr th:only-of-type {\n",
       "        vertical-align: middle;\n",
       "    }\n",
       "\n",
       "    .dataframe tbody tr th {\n",
       "        vertical-align: top;\n",
       "    }\n",
       "\n",
       "    .dataframe thead th {\n",
       "        text-align: right;\n",
       "    }\n",
       "</style>\n",
       "<table border=\"1\" class=\"dataframe\">\n",
       "  <thead>\n",
       "    <tr style=\"text-align: right;\">\n",
       "      <th></th>\n",
       "      <th>Hours</th>\n",
       "      <th>Scores</th>\n",
       "    </tr>\n",
       "  </thead>\n",
       "  <tbody>\n",
       "    <tr>\n",
       "      <th>count</th>\n",
       "      <td>25.000000</td>\n",
       "      <td>25.000000</td>\n",
       "    </tr>\n",
       "    <tr>\n",
       "      <th>mean</th>\n",
       "      <td>5.012000</td>\n",
       "      <td>51.480000</td>\n",
       "    </tr>\n",
       "    <tr>\n",
       "      <th>std</th>\n",
       "      <td>2.525094</td>\n",
       "      <td>25.286887</td>\n",
       "    </tr>\n",
       "    <tr>\n",
       "      <th>min</th>\n",
       "      <td>1.100000</td>\n",
       "      <td>17.000000</td>\n",
       "    </tr>\n",
       "    <tr>\n",
       "      <th>25%</th>\n",
       "      <td>2.700000</td>\n",
       "      <td>30.000000</td>\n",
       "    </tr>\n",
       "    <tr>\n",
       "      <th>50%</th>\n",
       "      <td>4.800000</td>\n",
       "      <td>47.000000</td>\n",
       "    </tr>\n",
       "    <tr>\n",
       "      <th>75%</th>\n",
       "      <td>7.400000</td>\n",
       "      <td>75.000000</td>\n",
       "    </tr>\n",
       "    <tr>\n",
       "      <th>max</th>\n",
       "      <td>9.200000</td>\n",
       "      <td>95.000000</td>\n",
       "    </tr>\n",
       "  </tbody>\n",
       "</table>\n",
       "</div>"
      ],
      "text/plain": [
       "           Hours     Scores\n",
       "count  25.000000  25.000000\n",
       "mean    5.012000  51.480000\n",
       "std     2.525094  25.286887\n",
       "min     1.100000  17.000000\n",
       "25%     2.700000  30.000000\n",
       "50%     4.800000  47.000000\n",
       "75%     7.400000  75.000000\n",
       "max     9.200000  95.000000"
      ]
     },
     "execution_count": 12,
     "metadata": {},
     "output_type": "execute_result"
    }
   ],
   "source": [
    "#to view some basic statistical information \n",
    "raw_df.describe()"
   ]
  },
  {
   "cell_type": "markdown",
   "metadata": {},
   "source": [
    "Number of hours studied by the students ranges from 1.1 to 9.2, with mean and median value of 5.01 and 4.8 respectively. \n",
    "\n",
    "The percentage of marks scored by the students ranges from 17 to 95, with mean and median value of 51.48 and 47 respectively. "
   ]
  },
  {
   "cell_type": "code",
   "execution_count": 13,
   "metadata": {},
   "outputs": [
    {
     "data": {
      "text/plain": [
       "Index(['Hours', 'Scores'], dtype='object')"
      ]
     },
     "execution_count": 13,
     "metadata": {},
     "output_type": "execute_result"
    }
   ],
   "source": [
    "#to check the column names\n",
    "raw_df.columns"
   ]
  },
  {
   "cell_type": "markdown",
   "metadata": {},
   "source": [
    "### Exploratory data analysis & visualization\n",
    "\n",
    "Exploratory Data Analysis (EDA) is a process of analyzing a dataset and synthesizing the key insights and characteristics of the data. It helps us to gain a deeper understanding of the data."
   ]
  },
  {
   "cell_type": "code",
   "execution_count": 14,
   "metadata": {},
   "outputs": [],
   "source": [
    "#to avoid displaying graphs as pop-ups \n",
    "%matplotlib inline \n",
    "#to set some default style for our graphs\n",
    "sns.set_style('darkgrid')\n",
    "matplotlib.rcParams['font.size'] = 14\n",
    "matplotlib.rcParams['figure.figsize'] = (9, 5)\n",
    "matplotlib.rcParams['figure.facecolor'] = 'white'"
   ]
  },
  {
   "cell_type": "markdown",
   "metadata": {},
   "source": [
    "#### Distribution of Study Hours"
   ]
  },
  {
   "cell_type": "code",
   "execution_count": 15,
   "metadata": {},
   "outputs": [
    {
     "data": {
      "image/png": "[encoded data removed]",
      "text/plain": [
       "<Figure size 648x360 with 1 Axes>"
      ]
     },
     "metadata": {},
     "output_type": "display_data"
    }
   ],
   "source": [
    "plt.title('Distribution of Study Hours')\n",
    "sns.histplot(x='Hours', data = raw_df, kde = True, bins = 10, color = 'purple')\n",
    "plt.xlabel('Study Hours')\n",
    "plt.ylabel('Number of Students')\n",
    "plt.show()"
   ]
  },
  {
   "cell_type": "markdown",
   "metadata": {},
   "source": [
    "#### Distribution of Scores"
   ]
  },
  {
   "cell_type": "code",
   "execution_count": 16,
   "metadata": {},
   "outputs": [
    {
     "data": {
      "image/png": "[encoded data removed]",
      "text/plain": [
       "<Figure size 648x360 with 1 Axes>"
      ]
     },
     "metadata": {},
     "output_type": "display_data"
    }
   ],
   "source": [
    "plt.title('Distribution of Scores')\n",
    "sns.histplot(x='Scores', data = raw_df, kde = True, bins = 10, color = 'purple')\n",
    "plt.xlabel('Scores')\n",
    "plt.ylabel('Number of Students')\n",
    "plt.show()"
   ]
  },
  {
   "cell_type": "markdown",
   "metadata": {},
   "source": [
    "#### Relationship between Study Hours & Scores "
   ]
  },
  {
   "cell_type": "code",
   "execution_count": 17,
   "metadata": {},
   "outputs": [
    {
     "name": "stdout",
     "output_type": "stream",
     "text": [
      "Correlation between the number of hours studied and the percentage scored by a student is 0.976\n"
     ]
    }
   ],
   "source": [
    "print('Correlation between the number of hours studied and the percentage scored by a student is {}'.format(round(raw_df.Scores.corr(raw_df.Hours),3)))"
   ]
  },
  {
   "cell_type": "markdown",
   "metadata": {},
   "source": [
    "Let's use `lmplot()` function to create a regression plot (linear model plot). It creates a scatter plot with a linear fit on top of it. \n",
    "\n",
    "**The regression plots in seaborn are primarily intended to add a visual guide that helps to emphasize patterns in a dataset during exploratory data analysis. It creates a regression line between 2 parameters and helps to visualize their linear relationships.**"
   ]
  },
  {
   "cell_type": "code",
   "execution_count": 18,
   "metadata": {},
   "outputs": [
    {
     "data": {
      "image/png": "[encoded data removed]",
      "text/plain": [
       "<Figure size 576x360 with 1 Axes>"
      ]
     },
     "metadata": {},
     "output_type": "display_data"
    }
   ],
   "source": [
    "sns.lmplot(x='Hours', y='Scores', data =raw_df, scatter_kws = {'color' : 'red', 's':80}, aspect = 1.6)\n",
    "plt.show()"
   ]
  },
  {
   "cell_type": "markdown",
   "metadata": {},
   "source": [
    "It's clear that there is a strong positive correlation between the percentage of marks scored by the students and the number of hours they studied. \n",
    "\n",
    "---"
   ]
  },
  {
   "cell_type": "markdown",
   "metadata": {},
   "source": [
    "## 3. Prepare Dataset for Training\n",
    "\n",
    "Let's split the dataset into training and validation set using `train_test_split()` function from scikit-learn library. "
   ]
  },
  {
   "cell_type": "markdown",
   "metadata": {},
   "source": [
    "### Split into training and validation sets"
   ]
  },
  {
   "cell_type": "code",
   "execution_count": 19,
   "metadata": {},
   "outputs": [],
   "source": [
    "from sklearn.model_selection import train_test_split "
   ]
  },
  {
   "cell_type": "code",
   "execution_count": 20,
   "metadata": {},
   "outputs": [],
   "source": [
    "#split raw_df into training and validation dataset \n",
    "train_df, val_df = train_test_split(raw_df, test_size = 0.25, random_state = 42 )"
   ]
  },
  {
   "cell_type": "code",
   "execution_count": 21,
   "metadata": {},
   "outputs": [
    {
     "name": "stdout",
     "output_type": "stream",
     "text": [
      "train_df.shape : (18, 2)\n",
      "val_df.shape : (7, 2)\n"
     ]
    }
   ],
   "source": [
    "print ('train_df.shape : {}'.format(train_df.shape))\n",
    "print ('val_df.shape : {}'.format(val_df.shape))"
   ]
  },
  {
   "cell_type": "markdown",
   "metadata": {},
   "source": [
    "### Extract inputs and outputs (targets)"
   ]
  },
  {
   "cell_type": "code",
   "execution_count": 22,
   "metadata": {},
   "outputs": [],
   "source": [
    "#separate and assign input and target columns\n",
    "input_col = 'Hours'\n",
    "target_col = 'Scores'"
   ]
  },
  {
   "cell_type": "code",
   "execution_count": 23,
   "metadata": {},
   "outputs": [],
   "source": [
    "#create separate variables to store inputs and target values for training and validation dataset\n",
    "train_inputs = train_df[[input_col]] #inputs should be always 2D\n",
    "train_targets = train_df[target_col]\n",
    "val_inputs = val_df[[input_col]] #inputs should be always 2D \n",
    "val_targets = val_df[target_col]"
   ]
  },
  {
   "cell_type": "markdown",
   "metadata": {},
   "source": [
    "---"
   ]
  },
  {
   "cell_type": "markdown",
   "metadata": {},
   "source": [
    "## 4. Model Training\n",
    "\n",
    "Let's train our simple linear regression model with the training data by importing `LinearRegression` class from `linear_model` library in scikit-learn. "
   ]
  },
  {
   "cell_type": "code",
   "execution_count": 24,
   "metadata": {},
   "outputs": [],
   "source": [
    "#import LinearRegression class from linear_model in scikit-learn \n",
    "from sklearn.linear_model import LinearRegression "
   ]
  },
  {
   "cell_type": "code",
   "execution_count": 25,
   "metadata": {},
   "outputs": [],
   "source": [
    "#assign the model class to a variable\n",
    "model = LinearRegression()"
   ]
  },
  {
   "cell_type": "code",
   "execution_count": 26,
   "metadata": {},
   "outputs": [
    {
     "name": "stdout",
     "output_type": "stream",
     "text": [
      "Training Completed Successfully\n"
     ]
    }
   ],
   "source": [
    "#train our model using train_inputs and train_targets by using fit method\n",
    "model.fit(train_inputs, train_targets)\n",
    "print('Training Completed Successfully')"
   ]
  },
  {
   "cell_type": "code",
   "execution_count": 27,
   "metadata": {},
   "outputs": [
    {
     "name": "stdout",
     "output_type": "stream",
     "text": [
      "Slope of the linear model is 9.71\n"
     ]
    }
   ],
   "source": [
    "print ('Slope of the linear model is {:.2f}'.format(model.coef_[0])) "
   ]
  },
  {
   "cell_type": "code",
   "execution_count": 28,
   "metadata": {},
   "outputs": [
    {
     "name": "stdout",
     "output_type": "stream",
     "text": [
      "Intercept of the linear model is 2.48\n"
     ]
    }
   ],
   "source": [
    "print ('Intercept of the linear model is {:.2f}'.format(model.intercept_)) "
   ]
  },
  {
   "cell_type": "code",
   "execution_count": 29,
   "metadata": {
    "scrolled": true
   },
   "outputs": [
    {
     "data": {
      "text/plain": [
       "array([52.02223727, 39.39391742, 17.05150538, 33.56546211, 46.19378196,\n",
       "       88.93578761, 85.05015073, 36.47968977, 28.70841601, 20.93714226,\n",
       "       49.10800962, 61.73632947, 78.25028619, 55.90787415, 77.27887697,\n",
       "       13.1658685 , 74.36464932, 91.85001526])"
      ]
     },
     "execution_count": 29,
     "metadata": {},
     "output_type": "execute_result"
    }
   ],
   "source": [
    "#predict the values of target column with our trained model\n",
    "train_preds = model.predict(train_inputs)\n",
    "train_preds "
   ]
  },
  {
   "cell_type": "markdown",
   "metadata": {},
   "source": [
    "#### Loss Function\n",
    "\n",
    "We will use the root mean squared error (RMSE) function as the loss function to measure the loss.\n",
    "\n",
    "The root mean square error is an important metric for determining how well a model fits a dataset. The larger the RMSE, the bigger the difference between the predicted and observed values, which means the worse the model fits. In contrast, the smaller the RMSE, the better a model fits the data. Below is a mathematical expression to describe the RMSE: \n",
    "\n",
    "<img src=\"https://i.stack.imgur.com/CCtDG.jpg\" width=\"420\">\n",
    "\n",
    "Let's define a helper function to compute the RMSE."
   ]
  },
  {
   "cell_type": "code",
   "execution_count": 30,
   "metadata": {},
   "outputs": [],
   "source": [
    "from sklearn.metrics import mean_squared_error"
   ]
  },
  {
   "cell_type": "code",
   "execution_count": 31,
   "metadata": {},
   "outputs": [],
   "source": [
    "def rmse(targets, preds):\n",
    "    ''' rmse() is a helper function used to determine the root mean squared error.\n",
    "        It accepts only 2 arguments:\n",
    "        targets : actual output value\n",
    "        preds   : predicted output value \n",
    "    ''' \n",
    "    rmse = mean_squared_error(targets, preds, squared = False)\n",
    "    return rmse"
   ]
  },
  {
   "cell_type": "code",
   "execution_count": 32,
   "metadata": {
    "scrolled": true
   },
   "outputs": [
    {
     "data": {
      "text/plain": [
       "5.580119821565466"
      ]
     },
     "execution_count": 32,
     "metadata": {},
     "output_type": "execute_result"
    }
   ],
   "source": [
    "rmse(train_targets, train_preds)"
   ]
  },
  {
   "cell_type": "markdown",
   "metadata": {},
   "source": [
    "#### Visualize predicted and actual values of training dataset"
   ]
  },
  {
   "cell_type": "code",
   "execution_count": 33,
   "metadata": {},
   "outputs": [
    {
     "data": {
      "text/html": [
       "<div>\n",
       "<style scoped>\n",
       "    .dataframe tbody tr th:only-of-type {\n",
       "        vertical-align: middle;\n",
       "    }\n",
       "\n",
       "    .dataframe tbody tr th {\n",
       "        vertical-align: top;\n",
       "    }\n",
       "\n",
       "    .dataframe thead th {\n",
       "        text-align: right;\n",
       "    }\n",
       "</style>\n",
       "<table border=\"1\" class=\"dataframe\">\n",
       "  <thead>\n",
       "    <tr style=\"text-align: right;\">\n",
       "      <th></th>\n",
       "      <th>train_inputs</th>\n",
       "      <th>train_targets</th>\n",
       "      <th>train_preds</th>\n",
       "    </tr>\n",
       "  </thead>\n",
       "  <tbody>\n",
       "    <tr>\n",
       "      <th>1</th>\n",
       "      <td>5.1</td>\n",
       "      <td>47</td>\n",
       "      <td>52.022237</td>\n",
       "    </tr>\n",
       "    <tr>\n",
       "      <th>22</th>\n",
       "      <td>3.8</td>\n",
       "      <td>35</td>\n",
       "      <td>39.393917</td>\n",
       "    </tr>\n",
       "    <tr>\n",
       "      <th>5</th>\n",
       "      <td>1.5</td>\n",
       "      <td>20</td>\n",
       "      <td>17.051505</td>\n",
       "    </tr>\n",
       "    <tr>\n",
       "      <th>2</th>\n",
       "      <td>3.2</td>\n",
       "      <td>27</td>\n",
       "      <td>33.565462</td>\n",
       "    </tr>\n",
       "    <tr>\n",
       "      <th>12</th>\n",
       "      <td>4.5</td>\n",
       "      <td>41</td>\n",
       "      <td>46.193782</td>\n",
       "    </tr>\n",
       "    <tr>\n",
       "      <th>15</th>\n",
       "      <td>8.9</td>\n",
       "      <td>95</td>\n",
       "      <td>88.935788</td>\n",
       "    </tr>\n",
       "    <tr>\n",
       "      <th>3</th>\n",
       "      <td>8.5</td>\n",
       "      <td>75</td>\n",
       "      <td>85.050151</td>\n",
       "    </tr>\n",
       "    <tr>\n",
       "      <th>4</th>\n",
       "      <td>3.5</td>\n",
       "      <td>30</td>\n",
       "      <td>36.479690</td>\n",
       "    </tr>\n",
       "    <tr>\n",
       "      <th>20</th>\n",
       "      <td>2.7</td>\n",
       "      <td>30</td>\n",
       "      <td>28.708416</td>\n",
       "    </tr>\n",
       "    <tr>\n",
       "      <th>17</th>\n",
       "      <td>1.9</td>\n",
       "      <td>24</td>\n",
       "      <td>20.937142</td>\n",
       "    </tr>\n",
       "    <tr>\n",
       "      <th>21</th>\n",
       "      <td>4.8</td>\n",
       "      <td>54</td>\n",
       "      <td>49.108010</td>\n",
       "    </tr>\n",
       "    <tr>\n",
       "      <th>18</th>\n",
       "      <td>6.1</td>\n",
       "      <td>67</td>\n",
       "      <td>61.736329</td>\n",
       "    </tr>\n",
       "    <tr>\n",
       "      <th>24</th>\n",
       "      <td>7.8</td>\n",
       "      <td>86</td>\n",
       "      <td>78.250286</td>\n",
       "    </tr>\n",
       "    <tr>\n",
       "      <th>7</th>\n",
       "      <td>5.5</td>\n",
       "      <td>60</td>\n",
       "      <td>55.907874</td>\n",
       "    </tr>\n",
       "    <tr>\n",
       "      <th>10</th>\n",
       "      <td>7.7</td>\n",
       "      <td>85</td>\n",
       "      <td>77.278877</td>\n",
       "    </tr>\n",
       "    <tr>\n",
       "      <th>14</th>\n",
       "      <td>1.1</td>\n",
       "      <td>17</td>\n",
       "      <td>13.165869</td>\n",
       "    </tr>\n",
       "    <tr>\n",
       "      <th>19</th>\n",
       "      <td>7.4</td>\n",
       "      <td>69</td>\n",
       "      <td>74.364649</td>\n",
       "    </tr>\n",
       "    <tr>\n",
       "      <th>6</th>\n",
       "      <td>9.2</td>\n",
       "      <td>88</td>\n",
       "      <td>91.850015</td>\n",
       "    </tr>\n",
       "  </tbody>\n",
       "</table>\n",
       "</div>"
      ],
      "text/plain": [
       "    train_inputs  train_targets  train_preds\n",
       "1            5.1             47    52.022237\n",
       "22           3.8             35    39.393917\n",
       "5            1.5             20    17.051505\n",
       "2            3.2             27    33.565462\n",
       "12           4.5             41    46.193782\n",
       "15           8.9             95    88.935788\n",
       "3            8.5             75    85.050151\n",
       "4            3.5             30    36.479690\n",
       "20           2.7             30    28.708416\n",
       "17           1.9             24    20.937142\n",
       "21           4.8             54    49.108010\n",
       "18           6.1             67    61.736329\n",
       "24           7.8             86    78.250286\n",
       "7            5.5             60    55.907874\n",
       "10           7.7             85    77.278877\n",
       "14           1.1             17    13.165869\n",
       "19           7.4             69    74.364649\n",
       "6            9.2             88    91.850015"
      ]
     },
     "execution_count": 33,
     "metadata": {},
     "output_type": "execute_result"
    }
   ],
   "source": [
    "pd.DataFrame({'train_inputs' : train_inputs.Hours,'train_targets' : train_targets, 'train_preds' : train_preds})"
   ]
  },
  {
   "cell_type": "code",
   "execution_count": 34,
   "metadata": {},
   "outputs": [
    {
     "data": {
      "image/png": "[encoded data removed]",
      "text/plain": [
       "<Figure size 648x360 with 1 Axes>"
      ]
     },
     "metadata": {},
     "output_type": "display_data"
    },
    {
     "name": "stdout",
     "output_type": "stream",
     "text": [
      "RMSE Loss in training dataset : 5.58\n"
     ]
    }
   ],
   "source": [
    "plt.title('Predictions vs Actuals(Training Data)')\n",
    "plt.plot(train_inputs.Hours, train_preds, color = 'red')\n",
    "sns.scatterplot(x=train_inputs.Hours, y=train_targets, color = 'slateblue', s = 200)\n",
    "plt.legend(['Predictions', 'Actuals'], loc = 4)\n",
    "plt.show()\n",
    "print(f'RMSE Loss in training dataset : {rmse(train_targets, train_preds):.2f}') "
   ]
  },
  {
   "cell_type": "markdown",
   "metadata": {},
   "source": [
    "---"
   ]
  },
  {
   "cell_type": "markdown",
   "metadata": {},
   "source": [
    "## 5. Model Validation\n",
    "\n",
    "Let's evaluate our trained model with the help of validation set. "
   ]
  },
  {
   "cell_type": "code",
   "execution_count": 35,
   "metadata": {},
   "outputs": [],
   "source": [
    "val_preds = model.predict(val_inputs)"
   ]
  },
  {
   "cell_type": "code",
   "execution_count": 36,
   "metadata": {
    "scrolled": true
   },
   "outputs": [
    {
     "data": {
      "text/plain": [
       "4.849370684387328"
      ]
     },
     "execution_count": 36,
     "metadata": {},
     "output_type": "execute_result"
    }
   ],
   "source": [
    "rmse(val_targets, val_preds)"
   ]
  },
  {
   "cell_type": "markdown",
   "metadata": {},
   "source": [
    "#### Visualize predicted and actual values of validation dataset"
   ]
  },
  {
   "cell_type": "code",
   "execution_count": 37,
   "metadata": {
    "scrolled": true
   },
   "outputs": [
    {
     "data": {
      "text/html": [
       "<div>\n",
       "<style scoped>\n",
       "    .dataframe tbody tr th:only-of-type {\n",
       "        vertical-align: middle;\n",
       "    }\n",
       "\n",
       "    .dataframe tbody tr th {\n",
       "        vertical-align: top;\n",
       "    }\n",
       "\n",
       "    .dataframe thead th {\n",
       "        text-align: right;\n",
       "    }\n",
       "</style>\n",
       "<table border=\"1\" class=\"dataframe\">\n",
       "  <thead>\n",
       "    <tr style=\"text-align: right;\">\n",
       "      <th></th>\n",
       "      <th>val_inputs</th>\n",
       "      <th>val_targets</th>\n",
       "      <th>val_preds</th>\n",
       "    </tr>\n",
       "  </thead>\n",
       "  <tbody>\n",
       "    <tr>\n",
       "      <th>8</th>\n",
       "      <td>8.3</td>\n",
       "      <td>81</td>\n",
       "      <td>83.107332</td>\n",
       "    </tr>\n",
       "    <tr>\n",
       "      <th>16</th>\n",
       "      <td>2.5</td>\n",
       "      <td>30</td>\n",
       "      <td>26.765598</td>\n",
       "    </tr>\n",
       "    <tr>\n",
       "      <th>0</th>\n",
       "      <td>2.5</td>\n",
       "      <td>21</td>\n",
       "      <td>26.765598</td>\n",
       "    </tr>\n",
       "    <tr>\n",
       "      <th>23</th>\n",
       "      <td>6.9</td>\n",
       "      <td>76</td>\n",
       "      <td>69.507603</td>\n",
       "    </tr>\n",
       "    <tr>\n",
       "      <th>11</th>\n",
       "      <td>5.9</td>\n",
       "      <td>62</td>\n",
       "      <td>59.793511</td>\n",
       "    </tr>\n",
       "    <tr>\n",
       "      <th>9</th>\n",
       "      <td>2.7</td>\n",
       "      <td>25</td>\n",
       "      <td>28.708416</td>\n",
       "    </tr>\n",
       "    <tr>\n",
       "      <th>13</th>\n",
       "      <td>3.3</td>\n",
       "      <td>42</td>\n",
       "      <td>34.536871</td>\n",
       "    </tr>\n",
       "  </tbody>\n",
       "</table>\n",
       "</div>"
      ],
      "text/plain": [
       "    val_inputs  val_targets  val_preds\n",
       "8          8.3           81  83.107332\n",
       "16         2.5           30  26.765598\n",
       "0          2.5           21  26.765598\n",
       "23         6.9           76  69.507603\n",
       "11         5.9           62  59.793511\n",
       "9          2.7           25  28.708416\n",
       "13         3.3           42  34.536871"
      ]
     },
     "execution_count": 37,
     "metadata": {},
     "output_type": "execute_result"
    }
   ],
   "source": [
    "pd.DataFrame({'val_inputs' : val_inputs.Hours, 'val_targets' : val_targets, 'val_preds' : val_preds})"
   ]
  },
  {
   "cell_type": "code",
   "execution_count": 38,
   "metadata": {},
   "outputs": [
    {
     "data": {
      "image/png": "[encoded data removed]",
      "text/plain": [
       "<Figure size 648x360 with 1 Axes>"
      ]
     },
     "metadata": {},
     "output_type": "display_data"
    },
    {
     "name": "stdout",
     "output_type": "stream",
     "text": [
      "RMSE Loss in validation dataset : 4.85\n"
     ]
    }
   ],
   "source": [
    "plt.title('Predictions vs Actuals(Validation Data)')\n",
    "plt.plot(val_inputs.Hours, val_preds, color = 'red')\n",
    "sns.scatterplot(x=val_inputs.Hours, y=val_targets, color = 'slateblue', s = 200)\n",
    "plt.legend(['Predictions', 'Actuals'], loc = 4)\n",
    "plt.show()\n",
    "print(f'RMSE Loss in validation dataset : {rmse (val_targets, val_preds):.2f}') "
   ]
  },
  {
   "cell_type": "markdown",
   "metadata": {},
   "source": [
    "---"
   ]
  },
  {
   "cell_type": "markdown",
   "metadata": {},
   "source": [
    "## 6. Model Application\n",
    "\n",
    "**Predict the score of a student when he/she studies for 9.5 hrs/day.**\n",
    "\n",
    "We now apply our model to predict the score based on study hours, so in this case, we take 9.5 hours. This means, if a student studies for nine and a half hours, approximately what marks will be scored by the student based on the data we received and the model we applied."
   ]
  },
  {
   "cell_type": "code",
   "execution_count": 39,
   "metadata": {},
   "outputs": [],
   "source": [
    "test_input = [[9.5]] "
   ]
  },
  {
   "cell_type": "code",
   "execution_count": 40,
   "metadata": {},
   "outputs": [
    {
     "data": {
      "text/plain": [
       "array([94.76424292])"
      ]
     },
     "execution_count": 40,
     "metadata": {},
     "output_type": "execute_result"
    }
   ],
   "source": [
    "model.predict(test_input)"
   ]
  },
  {
   "cell_type": "code",
   "execution_count": 41,
   "metadata": {},
   "outputs": [
    {
     "name": "stdout",
     "output_type": "stream",
     "text": [
      "The score of a student when he/she studies for 9.5 hrs/day is 94.76\n"
     ]
    }
   ],
   "source": [
    "print('The score of a student when he/she studies for 9.5 hrs/day is {:.2f}'.format(model.predict(test_input)[0]))"
   ]
  },
  {
   "cell_type": "markdown",
   "metadata": {},
   "source": [
    "**Now that we have successfully implemented the model and received the outputs, the important thing to remember is that this model only works for the dataset provided here, the results may change if the dataset is changed, in which case we need to optimize the model again.**"
   ]
  },
  {
   "cell_type": "markdown",
   "metadata": {},
   "source": [
    "---"
   ]
  },
  {
   "cell_type": "markdown",
   "metadata": {},
   "source": [
    "## 7. Inferences and Conclusion\n",
    "\n",
    "- This dataset has 25 rows and 2 columns.\n",
    "\n",
    "- Each row represents number of hours a student studies and the percentage of marks scored by the corresponding student.\n",
    "\n",
    "- Number of hours studied by the students ranges from 1.1 to 9.2, with mean and median value of 5.01 and 4.8 respectively.\n",
    "\n",
    "- The percentage of marks scored by the students ranges from 17 to 95, with mean and median value of 51.48 and 47 respectively.\n",
    "\n",
    "- There is a strong positive correlation between the percentage of marks scored by the students and the number of hours they studied i.e 0.976\n",
    "\n",
    "- We used a simple linear regression class from linear model library in scikit-learn to predict the percentage of marks scored by a student. \n",
    "\n",
    "**Problem Statement:**\n",
    "\n",
    "**Predict the score of a student when he/she studies for 9.5 hrs/day.**\n",
    "\n",
    "- The student score when he/she studies for 9.5 hrs/day is 94.76\n",
    "\n",
    "**Conclusion:**\n",
    "\n",
    "The amount of data plays a crucial role in creating successful and accurate Machine Learning models. With a small dataset, we cannot build a successful model that accurately predicts real-world events. \n",
    "\n",
    "Since the dataset is very small, it is very important to remember that this model only works with this dataset. If the dataset changes, the results will change, so we will need to optimize it again."
   ]
  },
  {
   "cell_type": "markdown",
   "metadata": {},
   "source": [
    "---"
   ]
  },
  {
   "cell_type": "markdown",
   "metadata": {},
   "source": [
    "## 8. References\n",
    "\n",
    "Check out the following resources to learn more about the dataset and tools used in this notebook:\n",
    "\n",
    "**Dataset**\n",
    "\n",
    "- Student Score Dataset [Download Link](https://raw.githubusercontent.com/AdiPersonalWorks/Random/master/student_scores%20-%20student_scores.csv ) \n",
    "- The Sparks Foundation - GRIP Program [Website](https://internship.thesparksfoundation.info/#grip) \n",
    "\n",
    "\n",
    "**Tutorials** \n",
    "\n",
    "- Linear Regression with Scikit-Learn [Jovian](https://jovian.ai/learn/machine-learning-with-python-zero-to-gbms/lesson/linear-regression-with-scikit-learn)\n",
    "- Machine Learning with Python [Jovian](https://jovian.ai/learn/machine-learning-with-python-zero-to-gbms)\n",
    "\n",
    "\n",
    "**Documentation**  \n",
    "\n",
    "- Scikit-Learn Supervised Learning [Documentation](https://scikit-learn.org/stable/supervised_learning.html#supervised-learning)  \n",
    "- Seaborn Regression Plot [Documentation](https://seaborn.pydata.org/generated/seaborn.regplot.html) \n",
    "\n",
    "**Blogs**\n",
    "\n",
    "- Breaking the curse of small datasets in Machine Learning [Part-1](https://towardsdatascience.com/breaking-the-curse-of-small-datasets-in-machine-learning-part-1-36f28b0c044d)\n",
    "\n",
    "- Data Visualization in Python by [Siddhardhan](https://medium.com/@siddhardhan23/data-visualization-in-python-a90ddb706b23) "
   ]
  },
  {
   "cell_type": "code",
   "execution_count": null,
   "metadata": {},
   "outputs": [
    {
     "data": {
      "application/javascript": [
       "window.require && require([\"base/js/namespace\"],function(Jupyter){Jupyter.notebook.save_checkpoint()})"
      ],
      "text/plain": [
       "<IPython.core.display.Javascript object>"
      ]
     },
     "metadata": {},
     "output_type": "display_data"
    }
   ],
   "source": [
    "jovian.commit()"
   ]
  }
 ],
 "metadata": {
  "kernelspec": {
   "display_name": "Python 3 (ipykernel)",
   "language": "python",
   "name": "python3"
  },
  "language_info": {
   "codemirror_mode": {
    "name": "ipython",
    "version": 3
   },
   "file_extension": ".py",
   "mimetype": "text/x-python",
   "name": "python",
   "nbconvert_exporter": "python",
   "pygments_lexer": "ipython3",
   "version": "3.9.6"
  }
 },
 "nbformat": 4,
 "nbformat_minor": 2
}
